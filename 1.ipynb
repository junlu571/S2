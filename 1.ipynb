{
 "cells": [
  {
   "cell_type": "markdown",
   "metadata": {},
   "source": [
    "# 编程语言的选择\n",
    "\n",
    "## MATLAB\n",
    "MATLAB是matrix laboratory的缩写，是[Mathworks](https://www.mathworks.com)公司开发的一款商业软件。它是一种用于数值计算、算法开发、数据分析和可视化的高级编程语言和编程环境。 \n",
    "\n",
    "经过近40年的发展，MATLAB已广泛用于科学研究和工程开发中。作为一种以矩阵和向量运算为基础的交互式脚本(scripting)和编程(programming)语言，MATLAB特别适用于各种系统的分析和模拟，已成为线性代数、自动控制、数字信号处理、动态系统仿真等的基本工具。除向量和矩阵运算、数据可视化等基本功能外，MATLAB也可用来创建图形用户界面（GUI），并可与其他高级语言（如C、 C++和FORTRAN等）进行混合编程。  \n",
    "\n",
    "MATLAB附带了众多的工具箱（特定领域的一些专用函数的集合），涵盖了诸如信号和图像处理、通信、金融建模和分析等各种不同的领域。除了进行数值计算，MATLAB也提供了一个符号运算工具箱，因此也可进行符号运算。另外MATLAB带有一个软件包[Simulink](https://www.mathworks.com/products/simulink.html)，提供了可视化开发环境，可用于动态系统模拟仿真和嵌入式系统开发等方面。\n",
    "\n",
    "## Python\n",
    "[Python](https://www.python.org/)是一种开源、面向对象、解释型的高级编程语言，其特点是语法简单，可读性好。与C语言相比，Python采用缩进来定义、划分代码块（而不是用大括号{}，并且语句不以分号;结束），这样带来的好处是代码具有很好的可读性。  \n",
    "\n",
    "和MATLAB一样，Python能够自动管理内存使用，具备垃圾回收功能，是一种动态类型语言。与C/C++、Visual Basic等静态类型语言相比，Python代码的执行速度相对较慢，经常被当做脚本语言用于网页、网络应用开发和桌面应用GUI的开发。Python拥有一个庞大的标准库，同时还可以方便地下载众多第三方扩展程序库（目前[官方包索引](https://pypi.org/)已近22万个），提供了各种功能。这些库被认为是Python的最大优势之一，使Python成为快速开发各种软件和应用的强大工具。\n",
    "\n",
    "通过NumPy、SciPy、Matplotlib等扩展库，Python也可以用来编写科学计算和数据可视化程序，实现与MATLAB相似的功能。\n",
    "\n",
    "## 选择MATLAB的理由\n",
    "* 易学，易读，易维护，即装即用\n",
    "* 强大的集成开发环境\n",
    "* 丰富的函数库\n",
    "* 教育和科学界最流行的科学计算软件之一\n",
    "* Simulink软件包\n",
    "\n",
    "## 不选择MATLAB的理由\n",
    "* 商业软件，昂贵，必须购买许可才能使用\n",
    "* 大多数算法是专有的，不能查看源码\n",
    "* 第三方扩展较少\n",
    "* Mathworks虽然建有庞大的用户贡献的[File Exchange](https://www.mathworks.com/matlabcentral/fileexchange/)程序库，但其使用条款禁止MATLAB以外的其他用途\n",
    "* 专注于科学计算，较少用于实际的应用程序开发\n",
    "* 虽然也可编译成应用程序，但依赖于安装的MCR (Matlab Component Rumtime)版本。不同版本的MCR可能存在兼容性问题\n",
    "* 代码执行效率相对较低\n",
    "\n",
    "## MATLAB的替代选择\n",
    "* [GNU Octave](https://www.gnu.org/software/octave/)是一个开源、跨平台、免费的科学计算和数值分析工具，是一款[GNU](https://www.gnu.org)自由软件。语法强调与MATLAB相同（如不与MATLAB相兼容则被视为bug），MATLAB脚本一般可直接运行，但附带的工具箱可能与MATLAB不兼容\n",
    "* [Scilab](https://www.scilab.org)也是一个开源、跨平台、免费的科学计算和数值分析软件和编程语言。与 MATLAB非常相似，但并不像GNU Octave那样强调语法与MATLAB双向兼容。提供了与Simulink相似的动态系统仿真软件[Xcos](https://www.scilab.org/scilab/features/xcos)\n",
    "\n",
    "## 选择Python的理由\n",
    "* 自由软件，开源，免费\n",
    "* 优雅、明确、简单的编程语言，有助于初学者掌握计算机编程\n",
    "* 强大的数据类型和标准库\n",
    "* 几乎是无限可能的第三方扩展库\n",
    "* 很好的代码可移植性\n",
    "* 绝大多数Linux发行版和macOS (OS X)自带Python作为脚本语言，无需安装\n",
    "* 众多公司和机构（包括Google, NASA）使用，前景广阔\n",
    "* 虽然有时候被认为是脚本语言，但是也可用来编写大型软件和应用，如Inkscape, Dropbox等\n",
    "\n",
    "## 不选择Python的理由\n",
    "* 较高的学习成本（相对于MATLAB）\n",
    "* 没有类似Simulink的功能（相对于MATLAB）\n",
    "* 与MATLAB不兼容（相对于GNU Octave和Scilab）\n",
    "* 较低的代码执行效率（相对于C/C++等）"
   ]
  }
 ],
 "metadata": {
  "kernelspec": {
   "display_name": "Python 3",
   "language": "python",
   "name": "python3"
  },
  "language_info": {
   "codemirror_mode": {
    "name": "ipython",
    "version": 3
   },
   "file_extension": ".py",
   "mimetype": "text/x-python",
   "name": "python",
   "nbconvert_exporter": "python",
   "pygments_lexer": "ipython3",
   "version": "3.7.6"
  }
 },
 "nbformat": 4,
 "nbformat_minor": 4
}
