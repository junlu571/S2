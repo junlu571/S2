{
 "cells": [
  {
   "cell_type": "markdown",
   "metadata": {},
   "source": [
    "<img src=\"https://static1.squarespace.com/static/55631d54e4b004a8dfc9f081/t/5d5dcf0c2dbcaf00012bf0e7/1566428940622/Logo-MATLAB.jpg\" width=256 height=64 align=left>\n",
    "\n",
    "\n",
    "# 10分钟快速入门\n",
    "\n",
    "下面仅侧重于信号与系统实验中将要使用到的相关功能，对MATLAB作一个简短的介绍。更详尽的介绍和帮助，可参阅MATLAB的在线帮助和相关书籍。\n",
    "\n",
    "## MATLAB校园版\n",
    "\n",
    "### 注册Mathworks账户\n",
    "* 登录[注册页面](https://www.mathworks.com/login)，选择Create Account；\n",
    "* 填写账户信息，这里请填自己的@zju.edu.cn邮箱作为Email Address：\n",
    "<img src=\"https://www.junlyu.org/1.png\" width=584 height=382 align=center>\n",
    "\n",
    "### 下载安装MATLAB\n",
    "* 注册成功后登录账户，选择Asssociate License，输入Activation Key: 11411-34616-78311-15943-52984；\n",
    "* 点击关联的许可证号，选择Install and Activate标签页，点击Download Installer:\n",
    "<img src=\"https://www.junlyu.org/2.png\" width=740 height=386 align=center>\n",
    "* 按照提示完成安装，在激活步骤只需联网输入Mathworks账户和密码即可完成激活。\n",
    "\n",
    "### 在线使用MATLAB Online\n",
    "* MATLAB安装的系统最低要求为：2.9GB硬盘空间，4GB内存。一个典型安装可能会占用8GB硬盘空间。如不方便在电脑上安装，也可通过Web浏览器使用Mathworks基于云端的MATLAB桌面，即[MATLAB Online](https://matlab.mathworks.com)，及其云端存储空间[MATLAB Drive](https://drive.matlab.com)。\n",
    "\n",
    "## MATLAB的工作环境\n",
    "MATLAB每年推出两个版本，目前最新版本是2019年9月11日推出的R2019b (Ver. 9.7)。从Ver. 8.0开始，MATLAB采用Ribbon用户界面（一种以面板和标签页为主的用户界面）取代了菜单和工具栏，多窗口显示其功能，如当前文件夹（Current Folder）窗口显示的是当前文件夹中的文件；命令行窗口(Command Window)中在“>>”提示符后输入命令，MATLAB便会执行相应的操作；工作区（Workspace）窗口显示的是MATLAB命令和程序生成的变量名及其数值；Command History窗口显示输入命令的历史记录。所有这些窗口都可改变大小、浮动、关闭及重新打开。\n",
    "\n",
    "命令行窗口中输入一条命令（或称为一条语句），按Enter键，该命令会被立即执行并显示结果:"
   ]
  },
  {
   "cell_type": "code",
   "execution_count": 1,
   "metadata": {
    "scrolled": false
   },
   "outputs": [
    {
     "name": "stdout",
     "output_type": "stream",
     "text": [
      "\n",
      "ans =\n",
      "\n",
      "    'Hello, world!'\n",
      "\n"
     ]
    }
   ],
   "source": [
    "'Hello, world!'"
   ]
  },
  {
   "cell_type": "markdown",
   "metadata": {},
   "source": [
    "如果希望命令行窗口不显示结果，只需在命令后面添加分号:"
   ]
  },
  {
   "cell_type": "code",
   "execution_count": 2,
   "metadata": {},
   "outputs": [],
   "source": [
    "'Hello, world!';"
   ]
  },
  {
   "cell_type": "markdown",
   "metadata": {},
   "source": [
    "如果需要执行多个命令构成的程序（或称为脚本script）并将其保存为文件，则需要用到文本编辑器。点击工具栏的“New script”图标，或在“File”菜单下选择“New Script”，将打开如下图所示的MATLAB的编辑器，显示一个空白的文档，编辑并保存该文档即可执行脚本。通过编辑器的菜单项和工具栏也可以执行和调试程序。MATLAB编辑器建立的文件的扩展名默认为.m。\n",
    "\n",
    "如要新建一个可被其他程序调用的函数，可在“File”菜单下选择“New Function”，编辑器将生成如下所示自定义函数的框架：\n",
    "\n",
    "```\n",
    "function [outputArg1,outputArg2] = untitled(inputArg1,inputArg2)\n",
    "%UNTITLED Summary of this function goes here\n",
    "%   Detailed explanation goes here\n",
    "outputArg1 = inputArg1;\n",
    "outputArg2 = inputArg2;\n",
    "end\n",
    "```\n",
    "\n",
    "其中第一行是函数声明行，`function`是MATLAB关键字，`inputArg1`和`inputArg2`是输入变量，`outputArg1`和`outputArg2`是输出变量，函数必须以`end`结尾。将其保存为.m文件，即可在其他程序中以*文件名*（注意不是函数名，文件名和函数名可以不同）调用该函数。\n",
    "\n",
    "在命令行窗口中，还可以输入若干文件管理功能的命令，如`cd`或`chdir`可以改变当前工作文件夹，`dir`、`mkdir`和`rmdir`可分别显示、新建和删除文件夹，`delete`可用来删除文件等。如果要新建或打开某个.m文件，也可以在命令窗口输入`edit test.m`或`open test.m`（其中`.m`可省略）来打开编辑器，MATLAB将在当前文件夹和搜索路径中搜索`test.m`，若找到`test.m`则将打开该文件，反之则会提示是否创建新文件。如果要运行test.m，只需在命令行窗口直接输入`test`即可。如果test.m是存放于当前文件夹或搜索路径的函数文件，则可以直接在命令行窗口或其他程序中调用。\n",
    "\n",
    "MATLAB提供了很多演示程序供使用者参考学习。在命令行窗口中输入`demo`，将出现一系列的演示。同时，MATLAB提供了详尽的在线帮助系统，在命令窗口中输入“`help` 函数名”可显示函数的摘要和详细的解释，而输入“`doc` 函数名”可打开相关的联机帮助，其中不仅有函数的解释，还有函数使用的实例供使用者参考。\n",
    "\n",
    "## 当前文件夹和搜索路径\n",
    "\n",
    "MATLAB及其工具箱提供的函数往往以.m文件的形式安装在MATLAB的各个子文件夹中，另外用户自定义的函数和脚本文件也不一定存放于当前文件夹中，因此通常在使用调用或执行这些文件之前需要确认或设置`.m`文件的搜索路径，告诉MATLAB在哪里搜索.m文件。这一步骤可通过“File”菜单下选择“Set Path…”实现，如下图所示。\n",
    "\n",
    "如果在命令窗口输入字符串`test`，MATLAB将试图按照以下的顺序去解释和执行它：\n",
    "1. 搜索`test`是否是已定义的变量；\n",
    "2. 搜索`test`是否是MATLAB内置的固有函数；\n",
    "3. 在当前文件夹中搜索是否有`test.m`文件；\n",
    "4. 在“`Set Path`”给定的所有文件夹中搜索是否有`test.m`文件。\n",
    "\n",
    "## 变量和`.m`文件的命名规则\n",
    "\n",
    "在MATLAB中变量和.m文件有相同的命名规则：区分大小写，第一个字符必须为英文字符（不能为数字开头），不能超过31个字符，其他字符可以为英文字符、数字和下划线，除此之外不能包含其他字符。变量和`.m`文件的名字不能重名。同时应尽量避免和MATLAB预定义的变量（如`pi`, `eps`, `ans`, `Inf`, 虚数单位`i`或`j`等）以及函数（如`sin`, `cos`, `exp`, `log`等）重名，否则可能会导致预期之外的结果。\n",
    "\n",
    "## 基本运算和函数\n",
    "\n",
    "使用MATLAB最大的好处是以往复杂的数学运算和编程可变得相对简单。它缺省的数据格式为双精度浮点数的矩阵或数组，并且可以直接处理复数，同时会自动管理执行过程中变量使用内存的分配和回收，不需要额外的处理和编程，因此给各种数学运算，特别是向量与矩阵的运算带来极大的方便。例如要计算一个表达式的值，只需在提示符后直接输入，按回车键即可:"
   ]
  },
  {
   "cell_type": "code",
   "execution_count": 3,
   "metadata": {},
   "outputs": [
    {
     "name": "stdout",
     "output_type": "stream",
     "text": [
      "\n",
      "ans =\n",
      "\n",
      "   0.4969 + 0.7739i\n",
      "\n"
     ]
    }
   ],
   "source": [
    "5*sin(pi/6)*exp(-1+i)"
   ]
  },
  {
   "cell_type": "markdown",
   "metadata": {},
   "source": [
    "MATLAB会自动将计算结果赋给变量`ans`并立即显示计算结果。当然，也可将结果赋予任意一变量。若希望MATLAB不立即显示结果，只需在命令后加分号即可。例如"
   ]
  },
  {
   "cell_type": "code",
   "execution_count": 4,
   "metadata": {},
   "outputs": [
    {
     "name": "stdout",
     "output_type": "stream",
     "text": [
      "\n",
      "z =\n",
      "\n",
      "    0.4969\n",
      "\n"
     ]
    }
   ],
   "source": [
    "y = 5*sin(pi/6)*exp(-1+i);\n",
    "z = real(y)    % 显示结果的实部"
   ]
  },
  {
   "cell_type": "markdown",
   "metadata": {},
   "source": [
    "MATLAB的数学计算是基于向量和矩阵运算的，这给编程带来了极大的方便。例如以下的语句可直接定义向量并对其进行计算："
   ]
  },
  {
   "cell_type": "code",
   "execution_count": 5,
   "metadata": {},
   "outputs": [
    {
     "name": "stdout",
     "output_type": "stream",
     "text": [
      "\n",
      "y =\n",
      "\n",
      "     5     7    11    15\n",
      "\n"
     ]
    }
   ],
   "source": [
    "x=[2 3 5 7];   % 定义行向量x\n",
    "y=2*x+1        % 定义行向量y\n"
   ]
  },
  {
   "cell_type": "markdown",
   "metadata": {},
   "source": [
    "MATLAB会忽略所有百分比符号`%`之后的文字，即`%`之后的文字为注释。\n",
    "\n",
    "可以方便地更改、增加或删除向量的元素，如"
   ]
  },
  {
   "cell_type": "code",
   "execution_count": 6,
   "metadata": {},
   "outputs": [
    {
     "name": "stdout",
     "output_type": "stream",
     "text": [
      "\n",
      "y =\n",
      "\n",
      "     5     7     6    15\n",
      "\n"
     ]
    }
   ],
   "source": [
    "y(3)=y(3)-5      % 更改第3个元素"
   ]
  },
  {
   "cell_type": "code",
   "execution_count": 7,
   "metadata": {},
   "outputs": [
    {
     "name": "stdout",
     "output_type": "stream",
     "text": [
      "\n",
      "y =\n",
      "\n",
      "     5     7     6    15     0     0     6\n",
      "\n"
     ]
    }
   ],
   "source": [
    "y(7)=y(3)        % 添加第7个元素"
   ]
  },
  {
   "cell_type": "code",
   "execution_count": 8,
   "metadata": {},
   "outputs": [
    {
     "name": "stdout",
     "output_type": "stream",
     "text": [
      "\n",
      "y =\n",
      "\n",
      "     5     7     6     6\n",
      "\n"
     ]
    }
   ],
   "source": [
    "y(4:6)=[]        % 删除第4个至第6个元素"
   ]
  },
  {
   "cell_type": "code",
   "execution_count": 9,
   "metadata": {},
   "outputs": [
    {
     "name": "stdout",
     "output_type": "stream",
     "text": [
      "\n",
      "y =\n",
      "\n",
      "     5     7     1     2     3\n",
      "\n"
     ]
    }
   ],
   "source": [
    "y(3:5)=[1 2 3]   % 给第3个至第5个元素重新赋值"
   ]
  },
  {
   "cell_type": "code",
   "execution_count": 10,
   "metadata": {},
   "outputs": [
    {
     "name": "stdout",
     "output_type": "stream",
     "text": [
      "\n",
      "z =\n",
      "\n",
      "     5\n",
      "     7\n",
      "     1\n",
      "     2\n",
      "     3\n",
      "\n"
     ]
    }
   ],
   "source": [
    "z=y'             % 行向量y转置，得到列向量z"
   ]
  },
  {
   "cell_type": "markdown",
   "metadata": {},
   "source": [
    "输入矩阵只需在每一行结尾加上分号，如："
   ]
  },
  {
   "cell_type": "code",
   "execution_count": 11,
   "metadata": {},
   "outputs": [
    {
     "name": "stdout",
     "output_type": "stream",
     "text": [
      "\n",
      "A =\n",
      "\n",
      "     1     2     3     4\n",
      "     5     6     7     8\n",
      "     9    10    11    12\n",
      "\n"
     ]
    }
   ],
   "source": [
    "A=[1 2 3 4;5 6 7 8;9 10 11 12]"
   ]
  },
  {
   "cell_type": "markdown",
   "metadata": {},
   "source": [
    "同样地，我们可以对矩阵进行各种处理："
   ]
  },
  {
   "cell_type": "code",
   "execution_count": 12,
   "metadata": {},
   "outputs": [
    {
     "name": "stdout",
     "output_type": "stream",
     "text": [
      "\n",
      "A =\n",
      "\n",
      "     1     2     3     4\n",
      "     5     0     0     8\n",
      "     9    10    11    12\n",
      "\n"
     ]
    }
   ],
   "source": [
    "A(2,2:3)=[0 0]"
   ]
  },
  {
   "cell_type": "code",
   "execution_count": 13,
   "metadata": {},
   "outputs": [
    {
     "name": "stdout",
     "output_type": "stream",
     "text": [
      "\n",
      "B =\n",
      "\n",
      "     1     5     9\n",
      "     2     0    10\n",
      "     3     0    11\n",
      "     4     8    12\n",
      "\n"
     ]
    }
   ],
   "source": [
    "B = A'"
   ]
  },
  {
   "cell_type": "code",
   "execution_count": 14,
   "metadata": {},
   "outputs": [
    {
     "name": "stdout",
     "output_type": "stream",
     "text": [
      "\n",
      "A =\n",
      "\n",
      "     1     2     3     4\n",
      "     5     0     0     8\n",
      "     9    10    11    12\n",
      "\n"
     ]
    }
   ],
   "source": [
    "A=[A B(2:4,[])]"
   ]
  },
  {
   "cell_type": "code",
   "execution_count": 15,
   "metadata": {},
   "outputs": [
    {
     "name": "stdout",
     "output_type": "stream",
     "text": [
      "\n",
      "A =\n",
      "\n",
      "     1     2     3     4     2     0    10\n",
      "     5     0     0     8     3     0    11\n",
      "     9    10    11    12     4     8    12\n",
      "\n"
     ]
    }
   ],
   "source": [
    "A=[A B(2:4,1:3)]"
   ]
  },
  {
   "cell_type": "markdown",
   "metadata": {
    "collapsed": true
   },
   "source": [
    "MATLAB提供了丰富内置函数，且这些函数的输入变量通常可以是向量、矩阵或数组，例如"
   ]
  },
  {
   "cell_type": "code",
   "execution_count": 16,
   "metadata": {},
   "outputs": [
    {
     "name": "stdout",
     "output_type": "stream",
     "text": [
      "\n",
      "ans =\n",
      "\n",
      "         0    0.8660    0.5000    1.0000\n",
      "\n"
     ]
    }
   ],
   "source": [
    "sin([0 pi/3 pi/6 pi/2])"
   ]
  },
  {
   "cell_type": "markdown",
   "metadata": {
    "collapsed": true
   },
   "source": [
    "## 绘图函数\n",
    "\n",
    "MATLAM 提供了丰富的绘图函数可将数据绘制成各种图形，如曲线、直方图、极坐标图、等位线图、向量场图等。在实验中较常用到的是plot函数和stem函数。\n",
    "\n",
    "plot函数是绘制二维曲线的函数。实例如下："
   ]
  },
  {
   "cell_type": "code",
   "execution_count": 26,
   "metadata": {},
   "outputs": [
    {
     "data": {
      "image/png": "[encoded data removed]",
      "text/plain": [
       "<IPython.core.display.Image object>"
      ]
     },
     "metadata": {},
     "output_type": "display_data"
    }
   ],
   "source": [
    "%plot -s 600,350\n",
    "x=linspace(0,4*pi,300);\n",
    "plot(x,sin(x),'c',x,cos(x),'r:');\n",
    "xlabel('x'); ylabel('y');\n",
    "legend('sin(x)','cos(x)');\n",
    "title('Sine and Cosine Functions');\n",
    "axis([0 4*pi -1.2 1.2]);"
   ]
  },
  {
   "cell_type": "markdown",
   "metadata": {
    "collapsed": true
   },
   "source": [
    "如果要在一个绘图窗口中绘制多个图形，可以使用`subplot(m,n,p)`命令，其中 参数m和n给定在一个窗口中显示m行n列个图形，p表示选定第p个图形区域， 即在第p个区域作图。例如以下脚本用`stem`函数分别画出了单位冲激函数和阶跃函数："
   ]
  },
  {
   "cell_type": "code",
   "execution_count": 25,
   "metadata": {},
   "outputs": [
    {
     "data": {
      "image/png": "[encoded data removed]",
      "text/plain": [
       "<IPython.core.display.Image object>"
      ]
     },
     "metadata": {},
     "output_type": "display_data"
    }
   ],
   "source": [
    "%plot -s 850,300\n",
    "clear;\n",
    "k1=-3; k2=6; k=k1:k2; \n",
    "axisscaling=[k1,k2,-.1,1.1];\n",
    "n=0;\n",
    "x=+(k==n); %impulse series\n",
    "x1=+(k>=n); %step series\n",
    "subplot(1,2,1);\n",
    "stem(k,x,'filled');\n",
    "title('Discrete Impulse Function')\n",
    "axis(axisscaling);\n",
    "xlabel('$n$','interpreter','latex'); \n",
    "ylabel('$\\delta[n]$','interpreter','latex');\n",
    "subplot(1,2,2);\n",
    "stem(k,x1,'filled');\n",
    "title('Discrete Step Function')\n",
    "axis(axisscaling);\n",
    "xlabel('$n$','interpreter','latex'); \n",
    "ylabel('$u\\left[n\\right]$','interpreter','latex');"
   ]
  }
 ],
 "metadata": {
  "kernelspec": {
   "display_name": "Matlab",
   "language": "matlab",
   "name": "matlab"
  },
  "language_info": {
   "codemirror_mode": "octave",
   "file_extension": ".m",
   "help_links": [
    {
     "text": "MetaKernel Magics",
     "url": "https://metakernel.readthedocs.io/en/latest/source/README.html"
    }
   ],
   "mimetype": "text/x-octave",
   "name": "matlab",
   "version": "0.16.7"
  }
 },
 "nbformat": 4,
 "nbformat_minor": 2
}
